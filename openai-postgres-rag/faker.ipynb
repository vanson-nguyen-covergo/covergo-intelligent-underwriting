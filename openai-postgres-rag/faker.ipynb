{
 "cells": [
  {
   "cell_type": "code",
   "execution_count": 1,
   "metadata": {},
   "outputs": [
    {
     "name": "stdout",
     "output_type": "stream",
     "text": [
      "Requirement already satisfied: pandas in /Users/sonnguyen/Documents/covergo/covergo-intelligent-uw/.venv/lib/python3.13/site-packages (2.2.3)\n",
      "Requirement already satisfied: numpy in /Users/sonnguyen/Documents/covergo/covergo-intelligent-uw/.venv/lib/python3.13/site-packages (2.1.2)\n",
      "Requirement already satisfied: faker in /Users/sonnguyen/Documents/covergo/covergo-intelligent-uw/.venv/lib/python3.13/site-packages (30.8.0)\n",
      "Requirement already satisfied: python-dateutil>=2.8.2 in /Users/sonnguyen/Documents/covergo/covergo-intelligent-uw/.venv/lib/python3.13/site-packages (from pandas) (2.9.0.post0)\n",
      "Requirement already satisfied: pytz>=2020.1 in /Users/sonnguyen/Documents/covergo/covergo-intelligent-uw/.venv/lib/python3.13/site-packages (from pandas) (2024.2)\n",
      "Requirement already satisfied: tzdata>=2022.7 in /Users/sonnguyen/Documents/covergo/covergo-intelligent-uw/.venv/lib/python3.13/site-packages (from pandas) (2024.2)\n",
      "Requirement already satisfied: typing-extensions in /Users/sonnguyen/Documents/covergo/covergo-intelligent-uw/.venv/lib/python3.13/site-packages (from faker) (4.12.2)\n",
      "Requirement already satisfied: six>=1.5 in /Users/sonnguyen/Documents/covergo/covergo-intelligent-uw/.venv/lib/python3.13/site-packages (from python-dateutil>=2.8.2->pandas) (1.16.0)\n",
      "Note: you may need to restart the kernel to use updated packages.\n"
     ]
    }
   ],
   "source": [
    "%pip install pandas numpy faker"
   ]
  },
  {
   "cell_type": "code",
   "execution_count": 2,
   "metadata": {},
   "outputs": [
    {
     "name": "stdout",
     "output_type": "stream",
     "text": [
      "                                            document  driver_id  vehicle_id  \\\n",
      "0  motor_insurance_hk_data_non_pii_114423oct2024.csv   81043220    44470499   \n",
      "1  motor_insurance_hk_data_non_pii_114423oct2024.csv   38430726    85347174   \n",
      "2  motor_insurance_hk_data_non_pii_114423oct2024.csv   95941257    94078724   \n",
      "3  motor_insurance_hk_data_non_pii_114423oct2024.csv   37982188    16933533   \n",
      "4  motor_insurance_hk_data_non_pii_114423oct2024.csv   59103327    10383184   \n",
      "\n",
      "    policy_id underwriting_decision risk_class   reason_for_decline  \\\n",
      "0  7295152581               Pending  High Risk                 None   \n",
      "1  7495839552              Approved   Low Risk                 None   \n",
      "2  1125745011              Declined  High Risk   High vehicle value   \n",
      "3  9377901969              Declined   Low Risk  Poor driving record   \n",
      "4  2395931819               Pending   Low Risk                 None   \n",
      "\n",
      "                                             content  \n",
      "0  Driver ID: 81043220, Age: 20, Gender: Male, Dr...  \n",
      "1  Driver ID: 38430726, Age: 20, Gender: Male, Dr...  \n",
      "2  Driver ID: 95941257, Age: 59, Gender: Female, ...  \n",
      "3  Driver ID: 37982188, Age: 59, Gender: Female, ...  \n",
      "4  Driver ID: 59103327, Age: 42, Gender: Female, ...  \n"
     ]
    }
   ],
   "source": [
    "import pandas as pd\n",
    "import random\n",
    "from faker import Faker\n",
    "\n",
    "# Initialize faker and set the locale to Hong Kong\n",
    "fake = Faker(locale=\"en\")\n",
    "filename = \"motor_insurance_hk_data_non_pii_114423oct2024.csv\"\n",
    "\n",
    "# Function to generate random motor insurance data without PII\n",
    "def generate_motor_insurance_data_non_pii(num_records):\n",
    "    data = []\n",
    "\n",
    "    for _ in range(num_records):\n",
    "        driver_id = fake.unique.random_number(digits=8, fix_len=True)\n",
    "        age = random.randint(18, 70)\n",
    "        gender = random.choice(['Male', 'Female', 'Other'])\n",
    "        driving_experience_years = random.randint(1, 50 - 18)\n",
    "        occupation = random.choice(['Professional', 'Clerical', 'Driver', 'Teacher'])\n",
    "\n",
    "        vehicle_id = fake.unique.random_number(digits=8, fix_len=True)\n",
    "        vehicle_make = random.choice(['Toyota', 'BMW', 'Honda', 'Mercedes-Benz', 'Audi', 'Bentley', 'Ferrari', 'McLaren'])\n",
    "        vehicle_model = random.choice(['Corolla', 'X5', 'Civic', 'C-Class', 'A4', 'Mulliner Batur', 'Daytona SP3', 'Speedtail'])\n",
    "        year_of_manufacture = random.randint(2005, 2023)\n",
    "        vehicle_value = round(random.uniform(100000, 1000000), 2)  # Vehicle value in HKD\n",
    "        engine_size = random.choice([1000, 1500, 2000, 2500, 3000])\n",
    "        registration_city = random.choice(['Hong Kong', 'Kowloon', 'New Territories'])\n",
    "        \n",
    "        policy_id = fake.unique.random_number(digits=10, fix_len=True)\n",
    "        coverage_type = random.choice(['Third Party', 'Comprehensive'])\n",
    "        premium_amount = round(random.uniform(5000, 20000), 2)  # HKD\n",
    "        policy_term = 1  # Typically 1 year\n",
    "        excess_amount = round(random.uniform(1000, 5000), 2)\n",
    "        effective_date = fake.date_this_year()\n",
    "        expiry_date = fake.date_between(start_date=effective_date, end_date='+1y')\n",
    "        renewal_status = random.choice(['Auto-renew', 'Non-renewal'])\n",
    "\n",
    "        driving_record = random.choice(['Clean', '1 Accident', 'Multiple Accidents'])\n",
    "        claims_history = random.randint(0, 5)\n",
    "        traffic_violations = random.randint(0, 3)\n",
    "        vehicle_usage = random.choice(['Private', 'Commercial'])\n",
    "        credit_score = random.randint(300, 850)\n",
    "        \n",
    "        underwriting_decision = random.choice(['Approved', 'Declined', 'Pending'])\n",
    "        risk_class = random.choice(['Low Risk', 'Medium Risk', 'High Risk'])\n",
    "        reason_for_decline = random.choice(['Poor driving record', 'Low credit score', 'Multiple accidents', 'High vehicle value']) if underwriting_decision == 'Declined' else None\n",
    "\n",
    "        # Concatenate all the fields to form the content\n",
    "        content = (\n",
    "            f\"Driver ID: {driver_id}, Age: {age}, Gender: {gender}, Driving Experience: {driving_experience_years} years, \"\n",
    "            f\"Occupation: {occupation}, Vehicle: {vehicle_make} {vehicle_model}, Year: {year_of_manufacture}, Value: {vehicle_value} HKD, \"\n",
    "            f\"Engine Size: {engine_size}cc, Registration City: {registration_city}, Policy ID: {policy_id}, Coverage: {coverage_type}, \"\n",
    "            f\"Premium: {premium_amount} HKD, Policy Term: {policy_term} year(s), Excess: {excess_amount} HKD, Effective Date: {effective_date}, \"\n",
    "            f\"Expiry Date: {expiry_date}, Renewal Status: {renewal_status}, Driving Record: {driving_record}, Claims History: {claims_history}, \"\n",
    "            f\"Traffic Violations: {traffic_violations}, Vehicle Usage: {vehicle_usage}, Credit Score: {credit_score}, \"\n",
    "            f\"Underwriting Decision: {underwriting_decision}, Risk Class: {risk_class}, Reason for Decline: {reason_for_decline}\"\n",
    "        )\n",
    "\n",
    "        data.append({\n",
    "            'document': filename,\n",
    "            'driver_id': driver_id,\n",
    "            'vehicle_id': vehicle_id,\n",
    "            'policy_id': policy_id,\n",
    "            'underwriting_decision': underwriting_decision,\n",
    "            'risk_class': risk_class,\n",
    "            'reason_for_decline': reason_for_decline,\n",
    "            'content': content\n",
    "        })\n",
    "\n",
    "    return pd.DataFrame(data)\n",
    "\n",
    "# Generate sample data with 100 records\n",
    "df = generate_motor_insurance_data_non_pii(100)\n",
    "\n",
    "# Save to a CSV file with document and content columns\n",
    "df.to_csv(filename, index=False)\n",
    "\n",
    "# Display the first few rows of the generated dataset\n",
    "print(df.head())"
   ]
  }
 ],
 "metadata": {
  "kernelspec": {
   "display_name": ".venv",
   "language": "python",
   "name": "python3"
  },
  "language_info": {
   "codemirror_mode": {
    "name": "ipython",
    "version": 3
   },
   "file_extension": ".py",
   "mimetype": "text/x-python",
   "name": "python",
   "nbconvert_exporter": "python",
   "pygments_lexer": "ipython3",
   "version": "3.13.0"
  }
 },
 "nbformat": 4,
 "nbformat_minor": 2
}
